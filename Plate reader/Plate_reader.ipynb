{
 "cells": [
  {
   "cell_type": "markdown",
   "id": "c6e7c2cc",
   "metadata": {},
   "source": [
    "# Import necessary packages"
   ]
  },
  {
   "cell_type": "code",
   "execution_count": 1,
   "id": "f898efff",
   "metadata": {},
   "outputs": [],
   "source": [
    "import pandas as pd\n",
    "import numpy as np\n",
    "from scipy.signal import argrelextrema, filtfilt, butter\n",
    "import matplotlib.pyplot as plt\n",
    "import seaborn as sb\n",
    "import xlsxwriter\n",
    "import areaundercurve as auc\n",
    "import os\n",
    "\n",
    "from IPython.display import Image\n",
    "from IPython.core.display import HTML "
   ]
  },
  {
   "cell_type": "markdown",
   "id": "efe4a49d",
   "metadata": {},
   "source": [
    "# Data analysis\n",
    "\n",
    "The following function determines the time at which the measure OD600 value meaured by a plate reader to estimate PAO1 growth curve is the lowest when infected with a phage ($t_{\\text{min}}$). This is done by estimating the local minima in the OD600 vs time curve (after applying a butterworth filter to smooth the curve). If there is no minimum in OD600 vs time curve, we set $t_{\\text{min}}$ = 10 hrs. The area of the growth curve from time = 0 upto $t_{\\text{min}}$ is then estimated for wild type (both when uninfected ($\\text{WT}$) and infected ($\\text{WT}_\\phi$)), and when the defence system is present (both uninfected ($\\text{DS}$) and infected ($\\text{DS}_\\phi$)).\n",
    "\n",
    "The efficiency of the defence system in combating the phage is then defined as $\\dfrac{\\text{DS}_\\phi-\\text{WT}_\\phi}{\\text{DS}-\\text{WT}_\\phi}$. This term would equal to zero when $\\text{DS}_\\phi$ = $\\text{WT}_\\phi$, or in other words, when the defence system provides no extra protection. Such an example is provided below: \n",
    "<div>\n",
    "<img src=\"JupyterFigures/Empty_Pa2_dilution_1.png\" width=\"400\"/>\n",
    "</div>"
   ]
  },
  {
   "cell_type": "markdown",
   "id": "268ddf8b",
   "metadata": {},
   "source": [
    "When $\\text{DS}_\\phi$ = $\\text{WT}_\\phi$, or when the defence system provides enough protection to combact the infecting phage to let the host strain grow as if there was no infection, the efficiency of protection would equal to one. Such an example is provided below:\n",
    "<div>\n",
    "<img src=\"JupyterFigures/RADAR_Pa6_dilution_3.png\" width=\"400\" />\n",
    "</div>"
   ]
  },
  {
   "cell_type": "markdown",
   "id": "710d16d0",
   "metadata": {},
   "source": [
    "When the strain with the defence system dies quicker than the wild type strain, the most likely mechanism of defence is abortive infection. In such a situation, $\\text{DS}_\\phi<\\text{WT}_\\phi$, or the measured efficiency would be negative. Such an example is provided below:\n",
    "<div>\n",
    "<img src=\"JupyterFigures/RADAR_Pa32_dilution_1.png\" width=\"400\" />\n",
    "</div>"
   ]
  },
  {
   "cell_type": "code",
   "execution_count": 2,
   "id": "4524fdbd",
   "metadata": {},
   "outputs": [],
   "source": [
    "%matplotlib inline \n",
    "\n",
    "plt.rc('font', family='sans-serif')\n",
    "plt.rc('xtick', labelsize=8)\n",
    "plt.rc('ytick', labelsize=8)\n",
    "plt.rcParams['axes.facecolor']='white'\n",
    "plt.rcParams['savefig.facecolor']='white'"
   ]
  },
  {
   "cell_type": "code",
   "execution_count": 3,
   "id": "46c6046b",
   "metadata": {},
   "outputs": [],
   "source": [
    "filename = 'Raw Data/20220502.xlsx' \n",
    "sheetname1 = 'PAO1'\n",
    "PAO1 = pd.read_excel(filename, sheet_name = sheetname1)\n",
    "PAO1_numpy = np.array(PAO1)\n",
    "\n",
    "sheetnames = ['Empty Plasmid', 'TerY-P', 'qatABCD', 'Zorya I', 'ietAS', \"RADAR\", \"Druantia III\", \"Gabija\", \"AbiEii\",'S20', \"Septu\", \"Wadjet\", \"CBASS Type II\", \"CBASS Type III\", \"CBASS Other\", \"AVAST Type V\"]\n",
    "outputdata = pd.DataFrame()\n",
    "\n",
    "if not os.path.exists('Efficiency'):\n",
    "        os.mkdir ('Efficiency')\n",
    "        \n",
    "for sheetname in sheetnames:\n",
    "    outputdata[sheetname] = auc.areaundercurve(filename, sheetname, PAO1_numpy, list(PAO1.columns.values)[1:], True)\n",
    "outputdata = outputdata.transpose()\n",
    "outputdata.to_excel('Efficiency.xlsx')"
   ]
  },
  {
   "cell_type": "markdown",
   "id": "c57d4dee",
   "metadata": {},
   "source": [
    "# Plotting the results as a heatmap"
   ]
  },
  {
   "cell_type": "code",
   "execution_count": 4,
   "id": "496488e0",
   "metadata": {},
   "outputs": [],
   "source": [
    "dilution_columns = ['dilution 1', 'dilution 2', 'dilution 3']\n",
    "for dil in dilution_columns:\n",
    "    fig, ax = plt.subplots(figsize=(10, 5))\n",
    "    dilution_cols = [col for col in outputdata.columns if dil in col]\n",
    "    ax = sb.heatmap(outputdata[dilution_cols], cmap='RdBu',vmin=-1, vmax=1.0,\n",
    "               linewidth=1.5, cbar_kws={\"shrink\": 0.8, 'label': 'Protection fraction'},square=True)\n",
    "    ax.figure.axes[-1].yaxis.label.set_size(8)\n",
    "    ax.figure.axes[-1].set_frame_on(True)\n",
    "    ax.figure.axes[-1].tick_params(axis='both', which='major', length=0)\n",
    "    xticks_labels = dilution_cols\n",
    "\n",
    "    plt.tick_params(axis='both', which='major', labelsize=8, labelbottom = False, bottom=False, top = False, labeltop=True, left =False)\n",
    "    plt.xticks(np.arange(27) + .5, labels=xticks_labels)\n",
    "    plt.xticks(rotation=90) \n",
    "    plt.yticks(rotation=0) \n",
    "    plt.tight_layout()\n",
    "    fig_name = 'Efficiency/' + dil + '.png'\n",
    "    plt.savefig(fig_name,dpi=600, transparent=False)\n",
    "    plt.close()    "
   ]
  }
 ],
 "metadata": {
  "kernelspec": {
   "display_name": "Python 3 (ipykernel)",
   "language": "python",
   "name": "python3"
  },
  "language_info": {
   "codemirror_mode": {
    "name": "ipython",
    "version": 3
   },
   "file_extension": ".py",
   "mimetype": "text/x-python",
   "name": "python",
   "nbconvert_exporter": "python",
   "pygments_lexer": "ipython3",
   "version": "3.9.12"
  }
 },
 "nbformat": 4,
 "nbformat_minor": 5
}
